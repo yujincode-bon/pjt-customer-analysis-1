{
 "cells": [
  {
   "cell_type": "markdown",
   "id": "ada961ed",
   "metadata": {},
   "source": [
    "# 과제 1\n",
    "** 고객 세분화 및 RFM 분석**\n",
    "\n",
    "- 브라질 지역별 고객들의 구매 패턴을 분석하여 RFM(Recency, Frequency, Monetary) 모델을 구축하고, 고객을 세분화하여 각 세그먼트의 특성과 비즈니스 전략을 제시하세요.\n",
    "1. 이상치/ 결측치 제거 \n",
    "2. 데이터 통합 (고객 기본 정보, 구매 상품 정보, 결제 정보, 고객위치정보)\n",
    "3. 파생변수 생성 RFM 지표 계산 (RFM 지표계산)\n",
    "\n",
    "\n",
    "# 데이터 살펴보기 \n",
    "\n"
   ]
  },
  {
   "cell_type": "markdown",
   "id": "f3ac176b",
   "metadata": {},
   "source": [
    "# 브라질 고객 구매 패턴 분석\n",
    "- 필요한 데이터 셋 (orders, olist_order_items_datasat) order_id를 공유한다. "
   ]
  },
  {
   "cell_type": "code",
   "execution_count": 10,
   "id": "ba095cc5",
   "metadata": {},
   "outputs": [
    {
     "name": "stderr",
     "output_type": "stream",
     "text": [
      "/var/folders/98/vj3q9b254k79y681ng12dddh0000gn/T/ipykernel_10248/1011438912.py:19: DeprecationWarning: load_dataset is deprecated and will be removed in a future version.\n",
      "  dfs[f] = kagglehub.load_dataset(\n",
      "/var/folders/98/vj3q9b254k79y681ng12dddh0000gn/T/ipykernel_10248/1011438912.py:19: DeprecationWarning: load_dataset is deprecated and will be removed in a future version.\n",
      "  dfs[f] = kagglehub.load_dataset(\n",
      "/var/folders/98/vj3q9b254k79y681ng12dddh0000gn/T/ipykernel_10248/1011438912.py:19: DeprecationWarning: load_dataset is deprecated and will be removed in a future version.\n",
      "  dfs[f] = kagglehub.load_dataset(\n",
      "/var/folders/98/vj3q9b254k79y681ng12dddh0000gn/T/ipykernel_10248/1011438912.py:19: DeprecationWarning: load_dataset is deprecated and will be removed in a future version.\n",
      "  dfs[f] = kagglehub.load_dataset(\n",
      "/var/folders/98/vj3q9b254k79y681ng12dddh0000gn/T/ipykernel_10248/1011438912.py:19: DeprecationWarning: load_dataset is deprecated and will be removed in a future version.\n",
      "  dfs[f] = kagglehub.load_dataset(\n",
      "/var/folders/98/vj3q9b254k79y681ng12dddh0000gn/T/ipykernel_10248/1011438912.py:19: DeprecationWarning: load_dataset is deprecated and will be removed in a future version.\n",
      "  dfs[f] = kagglehub.load_dataset(\n",
      "/var/folders/98/vj3q9b254k79y681ng12dddh0000gn/T/ipykernel_10248/1011438912.py:19: DeprecationWarning: load_dataset is deprecated and will be removed in a future version.\n",
      "  dfs[f] = kagglehub.load_dataset(\n",
      "/var/folders/98/vj3q9b254k79y681ng12dddh0000gn/T/ipykernel_10248/1011438912.py:19: DeprecationWarning: load_dataset is deprecated and will be removed in a future version.\n",
      "  dfs[f] = kagglehub.load_dataset(\n"
     ]
    },
    {
     "name": "stdout",
     "output_type": "stream",
     "text": [
      "                           order_id                       customer_id  \\\n",
      "0  e481f51cbdc54678b7cc49136f2d6af7  9ef432eb6251297304e76186b10a928d   \n",
      "1  53cdb2fc8bc7dce0b6741e2150273451  b0830fb4747a6c6d20dea0b8c802d7ef   \n",
      "2  47770eb9100c2d0c44946d9cf07ec65d  41ce2a54c0b03bf3443c3d931a367089   \n",
      "3  949d5b44dbf5de918fe9c16f97b45f8a  f88197465ea7920adcdbec7375364d82   \n",
      "4  ad21c59c0840e6cb83a9ceb5573f8159  8ab97904e6daea8866dbdbc4fb7aad2c   \n",
      "\n",
      "  order_status order_purchase_timestamp    order_approved_at  \\\n",
      "0    delivered      2017-10-02 10:56:33  2017-10-02 11:07:15   \n",
      "1    delivered      2018-07-24 20:41:37  2018-07-26 03:24:27   \n",
      "2    delivered      2018-08-08 08:38:49  2018-08-08 08:55:23   \n",
      "3    delivered      2017-11-18 19:28:06  2017-11-18 19:45:59   \n",
      "4    delivered      2018-02-13 21:18:39  2018-02-13 22:20:29   \n",
      "\n",
      "  order_delivered_carrier_date order_delivered_customer_date  \\\n",
      "0          2017-10-04 19:55:00           2017-10-10 21:25:13   \n",
      "1          2018-07-26 14:31:00           2018-08-07 15:27:45   \n",
      "2          2018-08-08 13:50:00           2018-08-17 18:06:29   \n",
      "3          2017-11-22 13:39:59           2017-12-02 00:28:42   \n",
      "4          2018-02-14 19:46:34           2018-02-16 18:17:02   \n",
      "\n",
      "  order_estimated_delivery_date  \n",
      "0           2017-10-18 00:00:00  \n",
      "1           2018-08-13 00:00:00  \n",
      "2           2018-09-04 00:00:00  \n",
      "3           2017-12-15 00:00:00  \n",
      "4           2018-02-26 00:00:00  \n"
     ]
    }
   ],
   "source": [
    "import kagglehub\n",
    "from kagglehub import KaggleDatasetAdapter\n",
    "\n",
    "# 불러올 파일 목록\n",
    "files = [\n",
    "    \"olist_orders_dataset.csv\",\n",
    "    \"olist_customers_dataset.csv\",\n",
    "    \"olist_order_items_dataset.csv\",\n",
    "    \"olist_products_dataset.csv\",\n",
    "    \"olist_sellers_dataset.csv\",\n",
    "    \"olist_geolocation_dataset.csv\",\n",
    "    \"olist_order_payments_dataset.csv\",\n",
    "    \"olist_order_reviews_dataset.csv\"\n",
    "]\n",
    "\n",
    "# 여러 개 파일을 데이터프레임으로 불러오기\n",
    "dfs = {}\n",
    "for f in files:\n",
    "    dfs[f] = kagglehub.load_dataset(\n",
    "        KaggleDatasetAdapter.PANDAS,\n",
    "        \"olistbr/brazilian-ecommerce\",\n",
    "        f\n",
    "    )\n",
    "\n",
    "# 예시: orders 데이터 확인\n",
    "print(dfs[\"olist_orders_dataset.csv\"].head())"
   ]
  },
  {
   "cell_type": "code",
   "execution_count": 12,
   "id": "e2d004af",
   "metadata": {},
   "outputs": [
    {
     "name": "stdout",
     "output_type": "stream",
     "text": [
      "                               order_id                       customer_id  \\\n",
      "99436  9c5dedf39a927c1b2549525ed64a053c  39bd1228ee8140590ac3aca26f2dfe00   \n",
      "99437  63943bddc261676b46f01ca7ac2f7bd8  1fca14ff2861355f6e5f14306ff977a7   \n",
      "99438  83c1379a015df1e13d02aae0204711ab  1aa71eb042121263aafbe80c1b562c9c   \n",
      "99439  11c177c8e97725db2631073c19f07b62  b331b74b18dc79bcdf6532d51e1637c1   \n",
      "99440  66dea50a8b16d9b4dee7af250b4be1a5  edb027a75a1449115f6b43211ae02a24   \n",
      "\n",
      "      order_status order_purchase_timestamp    order_approved_at  \\\n",
      "99436    delivered      2017-03-09 09:54:05  2017-03-09 09:54:05   \n",
      "99437    delivered      2018-02-06 12:58:58  2018-02-06 13:10:37   \n",
      "99438    delivered      2017-08-27 14:46:43  2017-08-27 15:04:16   \n",
      "99439    delivered      2018-01-08 21:28:27  2018-01-08 21:36:21   \n",
      "99440    delivered      2018-03-08 20:57:30  2018-03-09 11:20:28   \n",
      "\n",
      "      order_delivered_carrier_date order_delivered_customer_date  \\\n",
      "99436          2017-03-10 11:18:03           2017-03-17 15:08:01   \n",
      "99437          2018-02-07 23:22:42           2018-02-28 17:37:56   \n",
      "99438          2017-08-28 20:52:26           2017-09-21 11:24:17   \n",
      "99439          2018-01-12 15:35:03           2018-01-25 23:32:54   \n",
      "99440          2018-03-09 22:11:59           2018-03-16 13:08:30   \n",
      "\n",
      "      order_estimated_delivery_date  \n",
      "99436           2017-03-28 00:00:00  \n",
      "99437           2018-03-02 00:00:00  \n",
      "99438           2017-09-27 00:00:00  \n",
      "99439           2018-02-15 00:00:00  \n",
      "99440           2018-04-03 00:00:00  \n"
     ]
    }
   ],
   "source": [
    "orders = dfs[\"olist_orders_dataset.csv\"]\n",
    "order_items = dfs[\"olist_order_items_dataset.csv\"]\n",
    "products = dfs[\"olist_products_dataset.csv\"]\n",
    "sellers = dfs[\"olist_sellers_dataset.csv\"]\n",
    "geolocation = dfs[\"olist_geolocation_dataset.csv\"]\n",
    "order_payments = dfs[\"olist_order_payments_dataset.csv\"]\n",
    "olist_order_reviews = dfs[\"olist_order_reviews_dataset.csv\"]\n",
    "customers = dfs['olist_customers_dataset.csv']\n",
    "print(orders.tail())\n"
   ]
  },
  {
   "cell_type": "code",
   "execution_count": 19,
   "id": "64a2671a",
   "metadata": {},
   "outputs": [
    {
     "name": "stdout",
     "output_type": "stream",
     "text": [
      "                             product_id                category  num_orders  \\\n",
      "23650  bb50f2e236e5eea0100680137654686c            beleza_saude         187   \n",
      "13813  6cdd53843498f92890544667809f1595            beleza_saude         151   \n",
      "27114  d6160fb7873f184099d9bc95e30376af                     pcs          35   \n",
      "26545  d1c427060a0f73f6b889a5c7c61f2ac4  informatica_acessorios         323   \n",
      "19394  99a4788cb24856965c36a24e339b6058         cama_mesa_banho         467   \n",
      "7905   3dd2a17168ec895c781a9191c1e95ad7  informatica_acessorios         255   \n",
      "4904   25c38557cf793876c5abdd5931f922db                   bebes          38   \n",
      "12129  5f504b3a1c75b73d6151be81eb05bdc9              cool_stuff          63   \n",
      "10665  53b36df67ebb7c41585e8d54d6772e08      relogios_presentes         306   \n",
      "21724  aca2eb7d00ea1a7b8ebd4e68314663af        moveis_decoracao         431   \n",
      "\n",
      "       total_sales    avg_price  avg_freight  \n",
      "23650     63885.00   327.615385    19.082564  \n",
      "13813     54730.20   350.834615    27.973013  \n",
      "27114     48899.34  1397.124000    40.766857  \n",
      "26545     47214.51   137.651633    40.121050  \n",
      "19394     43025.56    88.167131    16.487787  \n",
      "7905      41082.60   149.936496    26.020511  \n",
      "4904      38907.32  1023.876842    36.963947  \n",
      "12129     37733.90   598.950794    63.363651  \n",
      "10665     37683.42   116.666935     7.041827  \n",
      "21724     37608.90    71.364137    13.684744  \n"
     ]
    }
   ],
   "source": [
    "# 상품 단위 집계\n",
    "order_items_products = order_items.merge(products, on='product_id', how='left')\n",
    "product_summary = order_items_products.groupby(['product_id','product_category_name']).agg({\n",
    "    'order_id': 'nunique',        # 판매된 주문 수\n",
    "    'price': ['sum','mean'],      # 총 매출, 평균 가격\n",
    "    'freight_value': 'mean'       # 평균 배송비\n",
    "}).reset_index()\n",
    "\n",
    "# 컬럼 이름 정리\n",
    "product_summary.columns = ['product_id','category','num_orders','total_sales','avg_price','avg_freight']\n",
    "\n",
    "# 상위 10개 상품 확인\n",
    "print(product_summary.sort_values('total_sales', ascending=False).head(10))\n"
   ]
  },
  {
   "cell_type": "markdown",
   "id": "d1710293",
   "metadata": {},
   "source": [
    "## 데이터 전처리 "
   ]
  },
  {
   "cell_type": "code",
   "execution_count": 14,
   "id": "c3bb358b",
   "metadata": {},
   "outputs": [
    {
     "name": "stdout",
     "output_type": "stream",
     "text": [
      "                     customer_unique_id  Recency  Frequency  Monetary\n",
      "93352  fffcf5a5ff07b0908bd4e2dbc735a684      447          1   2067.42\n",
      "93353  fffea47cd6d3cc0a88bd621562a9d061      262          1     84.58\n",
      "93354  ffff371b4d645b6ecea244b27531430a      568          1    112.46\n",
      "93355  ffff5962728ec6157033ef9805bacc48      119          1    133.69\n",
      "93356  ffffd2657e2aad2907e67c3e9daecbeb      484          1     71.56\n"
     ]
    }
   ],
   "source": [
    "import pandas as pd\n",
    "import numpy as np\n",
    "\n",
    "# 1️⃣ 데이터 불러오기 (이미 dfs 딕셔너리에 있다고 가정)\n",
    "orders = dfs[\"olist_orders_dataset.csv\"]\n",
    "order_items = dfs[\"olist_order_items_dataset.csv\"]\n",
    "payments = dfs[\"olist_order_payments_dataset.csv\"]\n",
    "customers = dfs[\"olist_customers_dataset.csv\"]\n",
    "\n",
    "# # 2️⃣ 주문 데이터: delivered 주문만 사용 + 날짜 처리\n",
    "orders = orders[orders['order_status'] == 'delivered'].copy()\n",
    "orders['order_purchase_timestamp'] = pd.to_datetime(orders['order_purchase_timestamp'])\n",
    "\n",
    "# 스냅샷 기준일(마지막 주문일 + 1일)\n",
    "snapshot_date = orders['order_purchase_timestamp'].max() + pd.Timedelta(days=1)\n",
    "\n",
    "# # 3️⃣ 주문별 금액 계산 (가격 + 배송비)\n",
    "order_items['total_amount'] = order_items['price'] + order_items['freight_value']\n",
    "order_amounts = order_items.groupby('order_id')['total_amount'].sum().reset_index()\n",
    "\n",
    "# 4️⃣ 주문별 결제 금액 집계\n",
    "order_payments = payments.groupby('order_id')['payment_value'].sum().reset_index()\n",
    "\n",
    "# # 5️⃣ 주문 데이터와 결합 (금액 추가)\n",
    "df = orders.merge(order_amounts, on='order_id', how='left') \\\n",
    "           .merge(order_payments, on='order_id', how='left')\n",
    "\n",
    "# # 6️⃣ 고객 정보 결합\n",
    "df = df.merge(customers[['customer_id', 'customer_unique_id']], on='customer_id', how='left')\n",
    "\n",
    "# # 7️⃣ 결측치 제거\n",
    "df = df.dropna(subset=['customer_unique_id', 'order_purchase_timestamp', 'payment_value'])\n",
    "\n",
    "# # 8️⃣ 고객별 RFM 집계\n",
    "rfm = df.groupby('customer_unique_id').agg({\n",
    "    'order_purchase_timestamp': lambda x: (snapshot_date - x.max()).days,  # Recency\n",
    "    'order_id': 'nunique',          # Frequency\n",
    "    'payment_value': 'sum'          # Monetary (실제 결제금액 기준)\n",
    "}).reset_index()\n",
    "\n",
    "# # 9️⃣ 컬럼명 변경\n",
    "rfm.rename(columns={\n",
    "    'order_purchase_timestamp': 'Recency',\n",
    "    'order_id': 'Frequency',\n",
    "    'payment_value': 'Monetary'\n",
    "}, inplace=True)\n",
    "\n",
    "# # 10️⃣ 최종 RFM 데이터 확인\n",
    "print(rfm.tail())\n"
   ]
  },
  {
   "cell_type": "code",
   "execution_count": 15,
   "id": "3ee3953d",
   "metadata": {},
   "outputs": [
    {
     "name": "stdout",
     "output_type": "stream",
     "text": [
      "=== 결측치 비율 ===\n",
      "order_delivered_customer_date    0.029817\n",
      "order_delivered_carrier_date     0.017930\n",
      "order_approved_at                0.001609\n",
      "order_id                         0.000000\n",
      "customer_id                      0.000000\n",
      "order_status                     0.000000\n",
      "order_purchase_timestamp         0.000000\n",
      "order_estimated_delivery_date    0.000000\n",
      "dtype: float64\n"
     ]
    }
   ],
   "source": [
    "#결측치/ 이상치 확인 \n",
    "import pandas as pd\n",
    "\n",
    "# 예시: orders, customers, payments 데이터프레임 사용\n",
    "orders = dfs[\"olist_orders_dataset.csv\"]\n",
    "customers = dfs[\"olist_customers_dataset.csv\"]\n",
    "payments = dfs[\"olist_order_payments_dataset.csv\"]\n",
    "\n",
    "# ✅ 결측치 비율 확인\n",
    "print(\"=== 결측치 비율 ===\")\n",
    "print(orders.isnull().mean().sort_values(ascending=False))\n",
    "\n",
    "# ✅ orders 테이블 결측치 처리\n",
    "# 'order_approved_at', 'order_delivered_carrier_date', 'order_delivered_customer_date' 등 일부 컬럼에 결측치가 있음\n",
    "# 주문 상태(order_status)가 'delivered'인 데이터만 남기는 게 보통 좋음\n",
    "orders = orders[orders[\"order_status\"] == \"delivered\"]\n",
    "\n",
    "# ✅ customers 테이블 결측치 제거 (customer_id 필수)\n",
    "customers = customers.dropna(subset=[\"customer_id\"])\n",
    "\n",
    "# ✅ payments 테이블에서 결측치 처리\n",
    "payments = payments.dropna(subset=[\"payment_value\"])  # 결제 금액이 없는 건 제거"
   ]
  },
  {
   "cell_type": "markdown",
   "id": "a14dda3b",
   "metadata": {},
   "source": [
    "## RFM 점수화(고객 세그먼트 분류)"
   ]
  },
  {
   "cell_type": "code",
   "execution_count": 16,
   "id": "3ed2f257",
   "metadata": {},
   "outputs": [
    {
     "name": "stdout",
     "output_type": "stream",
     "text": [
      "Segment\n",
      "잠재 고객 (Potential Loyalists)    41.12\n",
      "충성 고객 (Loyal Customers)        33.75\n",
      "이탈 위험 고객 (At Risk)             13.14\n",
      "최우수 고객 (Champions)              8.60\n",
      "휴면 고객 (Lost Customers)          3.39\n",
      "Name: proportion, dtype: float64\n"
     ]
    }
   ],
   "source": [
    "# Recency 점수 (값이 낮을수록 높은 점수)\n",
    "rfm['R_Score'] = pd.qcut(rfm['Recency'], 5, labels=[5,4,3,2,1]).astype(int)\n",
    "\n",
    "# Frequency 점수 (값이 클수록 높은 점수)\n",
    "rfm['F_Score'] = pd.qcut(rfm['Frequency'].rank(method='first'), 5, labels=[1,2,3,4,5]).astype(int)\n",
    "\n",
    "# Monetary 점수 (값이 클수록 높은 점수)\n",
    "rfm['M_Score'] = pd.qcut(rfm['Monetary'].rank(method='first'), 5, labels=[1,2,3,4,5]).astype(int)\n",
    "\n",
    "# 최종 RFM Score\n",
    "rfm['RFM_Score'] = rfm['R_Score'] + rfm['F_Score'] + rfm['M_Score']\n",
    "\n",
    "# 세그먼트 분류 \n",
    "def segment_customer(row):\n",
    "    if row['RFM_Score'] >= 13:\n",
    "        return '최우수 고객 (Champions)'\n",
    "    elif 10 <= row['RFM_Score'] < 13:\n",
    "        return '충성 고객 (Loyal Customers)'\n",
    "    elif 7 <= row['RFM_Score'] < 10:\n",
    "        return '잠재 고객 (Potential Loyalists)'\n",
    "    elif 5 <= row['RFM_Score'] < 7:\n",
    "        return '이탈 위험 고객 (At Risk)'\n",
    "    else:\n",
    "        return '휴면 고객 (Lost Customers)'\n",
    "\n",
    "rfm['Segment'] = rfm.apply(segment_customer, axis=1)\n",
    "\n",
    "# 세그먼트 별 분포 확인 \n",
    "segment_summary = rfm['Segment'].value_counts(normalize=True).mul(100).round(2)\n",
    "print(segment_summary)\n"
   ]
  },
  {
   "cell_type": "markdown",
   "id": "05f50ede",
   "metadata": {},
   "source": [
    "## 지역별 분석 \n",
    "- 고객데이터에 지역 정보 결합 "
   ]
  },
  {
   "cell_type": "code",
   "execution_count": null,
   "id": "17587cce",
   "metadata": {},
   "outputs": [
    {
     "name": "stdout",
     "output_type": "stream",
     "text": [
      "   customer_state     Recency  Frequency    Monetary\n",
      "0              PB  246.178503   1.072937  279.981190\n",
      "1              AC  307.700000   1.100000  267.882625\n",
      "2              RO  273.131148   1.135246  254.384836\n",
      "3              AL  266.052500   1.050000  252.464175\n",
      "4              AP  245.910448   1.029851  249.964776\n",
      "5              RR  269.195122   1.048780  239.091951\n",
      "6              PI  249.683438   1.058700  232.122348\n",
      "7              PA  264.252376   1.054910  231.766463\n",
      "8              TO  248.043796   1.051095  227.727518\n",
      "9              RN  250.884211   1.042105  219.764842\n",
      "10             SE  271.465875   1.044510  219.316291\n",
      "11             MA  260.818308   1.070735  217.046269\n",
      "12             MT  244.344244   1.074492  214.843499\n",
      "13             CE  252.928181   1.035909  213.577799\n",
      "14             AM  265.082759   1.110345  211.102069\n",
      "15             PE  237.370138   1.089711  209.241844\n",
      "16             MS  234.549858   1.066952  200.566439\n",
      "17             BA  242.058571   1.068691  193.199350\n",
      "18             SC  245.375282   1.062218  180.979611\n",
      "19             GO  241.881304   1.070810  180.591508\n",
      "20             RJ  246.569179   1.079719  179.040821\n",
      "21             RS  249.886877   1.076349  175.020859\n",
      "22             DF  225.466411   1.063820  174.124587\n",
      "23             ES  243.577867   1.087131  171.432434\n",
      "24             MG  242.342915   1.072169  170.673735\n",
      "25             PR  240.794809   1.073398  168.495381\n",
      "26             SP  226.652869   1.081011  153.066082\n"
     ]
    }
   ],
   "source": [
    "ㅊ"
   ]
  },
  {
   "cell_type": "code",
   "execution_count": null,
   "id": "531d9dfe",
   "metadata": {},
   "outputs": [],
   "source": [
    "# customers 컬럼 확인\n",
    "print(customers.columns)\n",
    "\n",
    "# 샘플 데이터 확인\n",
    "print(customers.head())"
   ]
  },
  {
   "cell_type": "markdown",
   "id": "27b90e5d",
   "metadata": {},
   "source": [
    "# 인사이트 도출 및 비즈니스 전략 \n",
    "1. 인사이트 도출 \n",
    "    **최우수 고객이 많은 지역** \n",
    "    - SP, RS(상파울루주와 히우그란지두술주가 ): 프리미엄 상품과 맞춤형 마케팅에 적합하다. \n",
    "    - 평균 Monetary 높으므로 할인보다는 혜택 중심의 로열티 프로그램 추천\n",
    "\n",
    "    **잠재 고객이 많은 지역**\n",
    "    - BA, MG(바이아주,미나스제라이스주): 첫 구매 이후 재구매 유도 필요\n",
    "    - 이메일, 앱푸시, 할인 쿠폰 등 재구매 캠페인 강화 \n",
    "\n",
    "    **이탈 위험 / 휴면 고객이 많은 지역**\n",
    "    - BA,RJ(바이아주.리우데자네이루주): 장기 미구매 고객 집중 관리 필요 \n",
    "    - 맞춤형 프로모션, 한정판 상품 개인화 추천 등의 재참여 유도 \n",
    "\n",
    "    **지역별 구매력 차이** \n",
    "    - SP. RS: 고가 상품 판매 가능 \n",
    "    - BA, MG : 가격 민감도 높음-> 소규모 할인 프로모션 효과적임 \n",
    "\n",
    "2. 비즈니스 전략 \n",
    "\n",
    "    A. VIP/충성 고객 전략\n",
    "        •\t전용 혜택 제공 (포인트 적립, 무료 배송, 프리미엄 서비스)\n",
    "        •\t조기 신상품 안내, 한정판 이벤트\n",
    "\n",
    "    B. 잠재 고객 전략\n",
    "        •\t첫 구매 이후 7~30일 내 재구매 유도 쿠폰 발송\n",
    "        •\t관심 상품 기반 추천 상품 마케팅\n",
    "\n",
    "    C. 이탈 위험/휴면 고객 전략\n",
    "        •\t이메일, SMS, 앱 푸시로 맞춤형 할인·프로모션 제공\n",
    "        •\t휴면 고객용 리타겟팅 광고 진행\n",
    "\n",
    "    D. 지역 맞춤 전략\n",
    "        •\tSP, RJ → 고가/프리미엄 상품 중심 캠페인\n",
    "        •\tBA, MG → 가격 민감도 고려한 할인/쿠폰 마케팅\n",
    "\n",
    "    E. 추가 전략\n",
    "        •\tRFM 점수 추적 → 주기적으로 RFM 갱신, 세그먼트 이동 감지\n",
    "        •\t고객 Lifetime Value 예측 → 높은 LTV 고객 우선 집중\n",
    "        •\t지역별 물류 최적화 → 배송비 및 배송 속도 개선\n",
    "\n",
    "\n",
    "\n",
    "진행해보고 싶은 것 :\n",
    "1. 가설수립,, 브라질 특성을 분석 해서 초입에 대립가설을 세운 후에 귀무가설을 기각할 수 있는지 생각해보기 \n",
    "2. 변수 간에 상관분석이 가능할지 판단하기(지역과 잘 팔리는 상품의 연관성?\n",
    "            \n"
   ]
  }
 ],
 "metadata": {
  "kernelspec": {
   "display_name": "venv",
   "language": "python",
   "name": "python3"
  },
  "language_info": {
   "codemirror_mode": {
    "name": "ipython",
    "version": 3
   },
   "file_extension": ".py",
   "mimetype": "text/x-python",
   "name": "python",
   "nbconvert_exporter": "python",
   "pygments_lexer": "ipython3",
   "version": "3.13.2"
  }
 },
 "nbformat": 4,
 "nbformat_minor": 5
}
