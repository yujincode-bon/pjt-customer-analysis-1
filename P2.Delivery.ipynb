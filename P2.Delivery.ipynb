{
 "cells": [
  {
   "cell_type": "code",
   "execution_count": null,
   "id": "042e4306",
   "metadata": {},
   "outputs": [],
   "source": [
    "# 분석 순서  \n",
    "## 배송 성과 분석 및 지역별 물류 최적화 방안   \n",
    "### 주문부터 배송 완료까지 시간 분석 후에 지역별 배송 성과 차이를 파악해서  물류 최적화 방안 도출 \n",
    "#### 상품카테고리별 판매 트렌드 분석 RFM 분석을 위한 새로운 전략 제시 "
   ]
  }
 ],
 "metadata": {
  "language_info": {
   "name": "python"
  }
 },
 "nbformat": 4,
 "nbformat_minor": 5
}
