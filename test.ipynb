{
 "cells": [
  {
   "cell_type": "code",
   "execution_count": 1,
   "id": "a0b787ac",
   "metadata": {},
   "outputs": [
    {
     "name": "stderr",
     "output_type": "stream",
     "text": [
      "/var/folders/98/vj3q9b254k79y681ng12dddh0000gn/T/ipykernel_10848/1011438912.py:19: DeprecationWarning: load_dataset is deprecated and will be removed in a future version.\n",
      "  dfs[f] = kagglehub.load_dataset(\n",
      "/var/folders/98/vj3q9b254k79y681ng12dddh0000gn/T/ipykernel_10848/1011438912.py:19: DeprecationWarning: load_dataset is deprecated and will be removed in a future version.\n",
      "  dfs[f] = kagglehub.load_dataset(\n",
      "/var/folders/98/vj3q9b254k79y681ng12dddh0000gn/T/ipykernel_10848/1011438912.py:19: DeprecationWarning: load_dataset is deprecated and will be removed in a future version.\n",
      "  dfs[f] = kagglehub.load_dataset(\n",
      "/var/folders/98/vj3q9b254k79y681ng12dddh0000gn/T/ipykernel_10848/1011438912.py:19: DeprecationWarning: load_dataset is deprecated and will be removed in a future version.\n",
      "  dfs[f] = kagglehub.load_dataset(\n",
      "/var/folders/98/vj3q9b254k79y681ng12dddh0000gn/T/ipykernel_10848/1011438912.py:19: DeprecationWarning: load_dataset is deprecated and will be removed in a future version.\n",
      "  dfs[f] = kagglehub.load_dataset(\n",
      "/var/folders/98/vj3q9b254k79y681ng12dddh0000gn/T/ipykernel_10848/1011438912.py:19: DeprecationWarning: load_dataset is deprecated and will be removed in a future version.\n",
      "  dfs[f] = kagglehub.load_dataset(\n",
      "/var/folders/98/vj3q9b254k79y681ng12dddh0000gn/T/ipykernel_10848/1011438912.py:19: DeprecationWarning: load_dataset is deprecated and will be removed in a future version.\n",
      "  dfs[f] = kagglehub.load_dataset(\n",
      "/var/folders/98/vj3q9b254k79y681ng12dddh0000gn/T/ipykernel_10848/1011438912.py:19: DeprecationWarning: load_dataset is deprecated and will be removed in a future version.\n",
      "  dfs[f] = kagglehub.load_dataset(\n"
     ]
    },
    {
     "name": "stdout",
     "output_type": "stream",
     "text": [
      "                           order_id                       customer_id  \\\n",
      "0  e481f51cbdc54678b7cc49136f2d6af7  9ef432eb6251297304e76186b10a928d   \n",
      "1  53cdb2fc8bc7dce0b6741e2150273451  b0830fb4747a6c6d20dea0b8c802d7ef   \n",
      "2  47770eb9100c2d0c44946d9cf07ec65d  41ce2a54c0b03bf3443c3d931a367089   \n",
      "3  949d5b44dbf5de918fe9c16f97b45f8a  f88197465ea7920adcdbec7375364d82   \n",
      "4  ad21c59c0840e6cb83a9ceb5573f8159  8ab97904e6daea8866dbdbc4fb7aad2c   \n",
      "\n",
      "  order_status order_purchase_timestamp    order_approved_at  \\\n",
      "0    delivered      2017-10-02 10:56:33  2017-10-02 11:07:15   \n",
      "1    delivered      2018-07-24 20:41:37  2018-07-26 03:24:27   \n",
      "2    delivered      2018-08-08 08:38:49  2018-08-08 08:55:23   \n",
      "3    delivered      2017-11-18 19:28:06  2017-11-18 19:45:59   \n",
      "4    delivered      2018-02-13 21:18:39  2018-02-13 22:20:29   \n",
      "\n",
      "  order_delivered_carrier_date order_delivered_customer_date  \\\n",
      "0          2017-10-04 19:55:00           2017-10-10 21:25:13   \n",
      "1          2018-07-26 14:31:00           2018-08-07 15:27:45   \n",
      "2          2018-08-08 13:50:00           2018-08-17 18:06:29   \n",
      "3          2017-11-22 13:39:59           2017-12-02 00:28:42   \n",
      "4          2018-02-14 19:46:34           2018-02-16 18:17:02   \n",
      "\n",
      "  order_estimated_delivery_date  \n",
      "0           2017-10-18 00:00:00  \n",
      "1           2018-08-13 00:00:00  \n",
      "2           2018-09-04 00:00:00  \n",
      "3           2017-12-15 00:00:00  \n",
      "4           2018-02-26 00:00:00  \n"
     ]
    }
   ],
   "source": [
    "import kagglehub\n",
    "from kagglehub import KaggleDatasetAdapter\n",
    "\n",
    "# 불러올 파일 목록\n",
    "files = [\n",
    "    \"olist_orders_dataset.csv\",\n",
    "    \"olist_customers_dataset.csv\",\n",
    "    \"olist_order_items_dataset.csv\",\n",
    "    \"olist_products_dataset.csv\",\n",
    "    \"olist_sellers_dataset.csv\",\n",
    "    \"olist_geolocation_dataset.csv\",\n",
    "    \"olist_order_payments_dataset.csv\",\n",
    "    \"olist_order_reviews_dataset.csv\"\n",
    "]\n",
    "\n",
    "# 여러 개 파일을 데이터프레임으로 불러오기\n",
    "dfs = {}\n",
    "for f in files:\n",
    "    dfs[f] = kagglehub.load_dataset(\n",
    "        KaggleDatasetAdapter.PANDAS,\n",
    "        \"olistbr/brazilian-ecommerce\",\n",
    "        f\n",
    "    )\n",
    "\n",
    "# 예시: orders 데이터 확인\n",
    "print(dfs[\"olist_orders_dataset.csv\"].head())"
   ]
  },
  {
   "cell_type": "code",
   "execution_count": null,
   "id": "e0ac2fec",
   "metadata": {},
   "outputs": [],
   "source": [
    "orders['order_purchase_timestamp'] = pd.to_datetime"
   ]
  }
 ],
 "metadata": {
  "kernelspec": {
   "display_name": "venv",
   "language": "python",
   "name": "python3"
  },
  "language_info": {
   "codemirror_mode": {
    "name": "ipython",
    "version": 3
   },
   "file_extension": ".py",
   "mimetype": "text/x-python",
   "name": "python",
   "nbconvert_exporter": "python",
   "pygments_lexer": "ipython3",
   "version": "3.13.2"
  }
 },
 "nbformat": 4,
 "nbformat_minor": 5
}
